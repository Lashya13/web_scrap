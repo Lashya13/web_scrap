{
 "cells": [
  {
   "cell_type": "code",
   "execution_count": 1,
   "metadata": {},
   "outputs": [],
   "source": [
    "from bs4 import BeautifulSoup as soup\n",
    "from urllib.request import urlopen as uReq"
   ]
  },
  {
   "cell_type": "code",
   "execution_count": 2,
   "metadata": {},
   "outputs": [],
   "source": [
    "my_url = 'https://www.flipkart.com/search?q=mi&otracker=search&otracker1=search&marketplace=FLIPKART&as-show=on&as=off'"
   ]
  },
  {
   "cell_type": "code",
   "execution_count": 3,
   "metadata": {},
   "outputs": [],
   "source": [
    "uClient =uReq(my_url)    #opens the connection, open webpage and tightly loaded\n",
    "page_html = uClient.read() #dump all the data and store in the variable\n",
    "uClient.close()\n",
    "page_soup = soup(page_html , 'html.parser') "
   ]
  },
  {
   "cell_type": "code",
   "execution_count": 4,
   "metadata": {},
   "outputs": [
    {
     "name": "stdout",
     "output_type": "stream",
     "text": [
      "40\n"
     ]
    }
   ],
   "source": [
    "#insert the class name of the product\n",
    "#find all the div tag\n",
    "\n",
    "containers =page_soup.findAll(\"div\",{\"class\": \"_13oc-S\"})\n",
    "\n",
    "print(len(containers))   #40 products in one page\n",
    "\n"
   ]
  },
  {
   "cell_type": "code",
   "execution_count": 5,
   "metadata": {},
   "outputs": [
    {
     "name": "stdout",
     "output_type": "stream",
     "text": [
      "<div class=\"_13oc-S\">\n",
      " <div data-id=\"MOBFUT9M84NDDYQN\" style=\"width:100%\">\n",
      "  <div class=\"_2kHMtA\">\n",
      "   <a class=\"_1fQZEK\" href=\"/redmi-9-prime-space-blue-64-gb/p/itmddf6787a707d2?pid=MOBFUT9M84NDDYQN&amp;lid=LSTMOBFUT9M84NDDYQN9NHPW2&amp;marketplace=FLIPKART&amp;q=mi&amp;store=search.flipkart.com&amp;srno=s_1_1&amp;otracker=search&amp;otracker1=search&amp;fm=organic&amp;iid=395479ae-7590-4191-8c45-57f86a3df7b7.MOBFUT9M84NDDYQN.SEARCH&amp;ppt=None&amp;ppn=None&amp;ssid=8ks7d61pa80000001617873639091&amp;qH=29bfe372865737fe\" rel=\"noopener noreferrer\" target=\"_blank\">\n",
      "    <div class=\"MIXNux\">\n",
      "     <div class=\"_2QcLo-\">\n",
      "      <div>\n",
      "       <div class=\"CXW8mj\" style=\"height:200px;width:200px\">\n",
      "        <img alt=\"Redmi 9 Prime (Space Blue, 64 GB)\" class=\"_396cs4\" src=\"//static-assets-web.flixcart.com/www/linchpin/fk-cp-zion/img/placeholder_fcebae.svg\"/>\n",
      "       </div>\n",
      "      </div>\n",
      "     </div>\n",
      "     <div class=\"_3wLduG\">\n",
      "      <div class=\"_3PzNI-\">\n",
      "       <span class=\"f3A4_V\">\n",
      "        <label class=\"_2iDkf8\">\n",
      "         <input class=\"_30VH1S\" readonly=\"\" type=\"checkbox\"/>\n",
      "         <div class=\"_24_Dny\">\n",
      "         </div>\n",
      "        </label>\n",
      "       </span>\n",
      "       <label class=\"_6Up2sF\">\n",
      "        <span>\n",
      "         Add to Compare\n",
      "        </span>\n",
      "       </label>\n",
      "      </div>\n",
      "     </div>\n",
      "     <div class=\"_2hVSre _3nq8ih\">\n",
      "      <div class=\"_36FSn5\">\n",
      "       <svg class=\"_1l0elc\" height=\"16\" viewbox=\"0 0 20 16\" width=\"16\" xmlns=\"http://www.w3.org/2000/svg\">\n",
      "        <path class=\"eX72wL\" d=\"M8.695 16.682C4.06 12.382 1 9.536 1 6.065 1 3.219 3.178 1 5.95 1c1.566 0 3.069.746 4.05 1.915C10.981 1.745 12.484 1 14.05 1 16.822 1 19 3.22 19 6.065c0 3.471-3.06 6.316-7.695 10.617L10 17.897l-1.305-1.215z\" fill=\"#2874F0\" fill-rule=\"evenodd\" opacity=\".9\" stroke=\"#FFF\">\n",
      "        </path>\n",
      "       </svg>\n",
      "      </div>\n",
      "     </div>\n",
      "    </div>\n",
      "    <div class=\"_3pLy-c row\">\n",
      "     <div class=\"col col-7-12\">\n",
      "      <div class=\"_4rR01T\">\n",
      "       Redmi 9 Prime (Space Blue, 64 GB)\n",
      "      </div>\n",
      "      <div class=\"gUuXy-\">\n",
      "       <span class=\"_1lRcqv\" id=\"productRating_LSTMOBFUT9M84NDDYQN9NHPW2_MOBFUT9M84NDDYQN_\">\n",
      "        <div class=\"_3LWZlK\">\n",
      "         4.4\n",
      "         <img class=\"_1wB99o\" src=\"data:image/svg+xml;base64,PHN2ZyB4bWxucz0iaHR0cDovL3d3dy53My5vcmcvMjAwMC9zdmciIHdpZHRoPSIxMyIgaGVpZ2h0PSIxMiI+PHBhdGggZmlsbD0iI0ZGRiIgZD0iTTYuNSA5LjQzOWwtMy42NzQgMi4yMy45NC00LjI2LTMuMjEtMi44ODMgNC4yNTQtLjQwNEw2LjUuMTEybDEuNjkgNC4wMSA0LjI1NC40MDQtMy4yMSAyLjg4Mi45NCA0LjI2eiIvPjwvc3ZnPg==\"/>\n",
      "        </div>\n",
      "       </span>\n",
      "       <span class=\"_2_R_DZ\">\n",
      "        <span>\n",
      "         <span>\n",
      "          84,474 Ratings\n",
      "         </span>\n",
      "         <span class=\"_13vcmD\">\n",
      "          &amp;\n",
      "         </span>\n",
      "         <span>\n",
      "          5,692 Reviews\n",
      "         </span>\n",
      "        </span>\n",
      "       </span>\n",
      "      </div>\n",
      "      <div class=\"fMghEO\">\n",
      "       <ul class=\"_1xgFaf\">\n",
      "        <li class=\"rgWa7D\">\n",
      "         4 GB RAM | 64 GB ROM | Expandable Upto 512 GB\n",
      "        </li>\n",
      "        <li class=\"rgWa7D\">\n",
      "         16.59 cm (6.53 inch) Full HD+ Display\n",
      "        </li>\n",
      "        <li class=\"rgWa7D\">\n",
      "         13MP Rear Camera | 8MP Front Camera\n",
      "        </li>\n",
      "        <li class=\"rgWa7D\">\n",
      "         5020 mAh Battery\n",
      "        </li>\n",
      "        <li class=\"rgWa7D\">\n",
      "         MediaTek Helio G80 Processor\n",
      "        </li>\n",
      "        <li class=\"rgWa7D\">\n",
      "         1 Year Manufacturer Warranty\n",
      "        </li>\n",
      "       </ul>\n",
      "      </div>\n",
      "     </div>\n",
      "     <div class=\"col col-5-12 nlI3QM\">\n",
      "      <div class=\"_3tbKJL\">\n",
      "       <div class=\"_25b18c\">\n",
      "        <div class=\"_30jeq3 _1_WHN1\">\n",
      "         ₹9,499\n",
      "        </div>\n",
      "        <div class=\"_3I9_wc _27UcVY\">\n",
      "         ₹\n",
      "         <!-- -->\n",
      "         11,999\n",
      "        </div>\n",
      "        <div class=\"_3Ay6Sb\">\n",
      "         <span>\n",
      "          20% off\n",
      "         </span>\n",
      "        </div>\n",
      "       </div>\n",
      "      </div>\n",
      "      <div class=\"_13J9qT\">\n",
      "       <img height=\"21\" src=\"//static-assets-web.flixcart.com/www/linchpin/fk-cp-zion/img/fa_62673a.png\"/>\n",
      "      </div>\n",
      "     </div>\n",
      "    </div>\n",
      "   </a>\n",
      "  </div>\n",
      " </div>\n",
      "</div>\n"
     ]
    }
   ],
   "source": [
    "#prettify is a function to bring the html in structure or organized manner\n",
    "\n",
    "print(soup.prettify(containers[0]))"
   ]
  },
  {
   "cell_type": "code",
   "execution_count": 6,
   "metadata": {},
   "outputs": [
    {
     "name": "stdout",
     "output_type": "stream",
     "text": [
      "Redmi 9 Prime (Space Blue, 64 GB)\n"
     ]
    }
   ],
   "source": [
    "#travesing the elements\n",
    "\n",
    "container = containers[0]\n",
    "print(container.div.img['alt'])"
   ]
  },
  {
   "cell_type": "code",
   "execution_count": 7,
   "metadata": {},
   "outputs": [
    {
     "name": "stdout",
     "output_type": "stream",
     "text": [
      "₹9,499₹11,99920% off\n"
     ]
    }
   ],
   "source": [
    "\n",
    "price = container.findAll(\"div\",{\"class\": \"col col-5-12 nlI3QM\"})\n",
    "print(price[0].text)"
   ]
  },
  {
   "cell_type": "code",
   "execution_count": 8,
   "metadata": {},
   "outputs": [
    {
     "name": "stdout",
     "output_type": "stream",
     "text": [
      "4.484,474 Ratings & 5,692 Reviews\n"
     ]
    }
   ],
   "source": [
    "\n",
    "ratings = container.findAll(\"div\",{\"class\": \"gUuXy-\"})\n",
    "print(ratings[0].text)"
   ]
  },
  {
   "cell_type": "code",
   "execution_count": 9,
   "metadata": {},
   "outputs": [],
   "source": [
    "filename = \"flipkart_Scrap.csv\"\n",
    "f = open(filename,\"w\")"
   ]
  },
  {
   "cell_type": "code",
   "execution_count": 10,
   "metadata": {},
   "outputs": [
    {
     "data": {
      "text/plain": [
       "31"
      ]
     },
     "execution_count": 10,
     "metadata": {},
     "output_type": "execute_result"
    }
   ],
   "source": [
    "headers = \"Product_name, Pricing, Ratings\\n\"\n",
    "f.write(headers)"
   ]
  },
  {
   "cell_type": "code",
   "execution_count": 11,
   "metadata": {},
   "outputs": [
    {
     "name": "stdout",
     "output_type": "stream",
     "text": [
      "Redmi 9 Prime (Space Blue| 64 GB),Rs.9499,4.484,474\n",
      "\n",
      "Redmi 9 Prime (Mint Green| 64 GB),Rs.9499,4.484,474\n",
      "\n",
      "Redmi 9 Prime (Sunrise Flare| 64 GB),Rs.9499,4.484,474\n",
      "\n",
      "Redmi 8A Dual (Midnight Grey| 32 GB),Rs.6999,4.344,497\n",
      "\n",
      "Redmi 8A Dual (Sky White| 32 GB),Rs.6999,4.344,497\n",
      "\n",
      "Redmi 9 (Sky Blue| 64 GB),Rs.9076,4.210,609\n",
      "\n",
      "Redmi Note 9 (Pebble Grey| 64 GB),Rs.11358,4.318,715\n",
      "\n",
      "Redmi Note 9 (Shadow Black| 128 GB),Rs.13386,4.318,715\n",
      "\n",
      "Redmi Note 9 (Scarlet Red| 64 GB),Rs.13499,4.318,715\n",
      "\n",
      "Redmi 9A (Midnight Black| 32 GB),Rs.7229,4.36,731\n",
      "\n",
      "Mi Wall Charger Accessory Combo for Xiaomi| Mi all models| Mi note 7 pro| Redmi note 5 pro,Rs.299,3.9159\n",
      "\n",
      "Redmi 9A (SeaBlue| 32 GB),Rs.7249,4.36,731\n",
      "\n",
      "Redmi 9A (Nature Green| 32 GB),Rs.7804,4.34,090\n",
      "\n",
      "Redmi 9A (Sea Blue| 32 GB),Rs.7993,4.34,090\n",
      "\n",
      "Redmi 9A (Midnight Black| 32 GB),Rs.7980,4.34,090\n",
      "\n",
      "Redmi 9A (Nature Green| 32 GB),Rs.7425,4.36,731\n",
      "\n",
      "Redmi Note 9 (Arctic White| 64 GB),Rs.11947,4.318,715\n",
      "\n",
      "Redmi 9 Prime (Space Blue| 128 GB),Rs.12999,4.484,474\n",
      "\n",
      "Redmi Note 9 (Scarlet Red| 128 GB),Rs.13900,4.318,715\n",
      "\n",
      "Redmi 8A Dual (Sea Blue| 32 GB),Rs.7849,4.344,497\n",
      "\n",
      "Redmi 8A Dual (Sea Blue| 64 GB),Rs.9445,4.213,136\n",
      "\n",
      "Mi 3i 20000 mAh Power Bank (Fast Charging| 18W),Rs.1499,4.363,300\n",
      "\n",
      "Redmi 9 (Sporty Orange| 64 GB),Rs.9080,4.210,609\n",
      "\n",
      "Redmi 9 Prime (Mint Green| 128 GB),Rs.11898,4.484,474\n",
      "\n",
      "Redmi Note 9 (Aqua Green| 64 GB),Rs.11467,4.318,715\n",
      "\n",
      "Redmi 8A Dual (Midnight Grey| 32 GB),Rs.8448,4.213,136\n",
      "\n",
      "Mi 10i (Midnight Black| 128 GB),Rs.24875,4.3824\n",
      "\n",
      "Redmi 8A Dual (Sky White| 32 GB),Rs.8999,4.213,136\n",
      "\n",
      "Redmi 9 (Sky Blue| 128 GB),Rs.10287,4.210,609\n",
      "\n",
      "Redmi Note 9 (Arctic White| 128 GB),Rs.14785,4.32,861\n",
      "\n",
      "Redmi Note 9 (Scarlet Red| 128 GB),Rs.14975,4.32,861\n",
      "\n",
      "Redmi Note 9 (Pebble Grey| 128 GB),Rs.13389,4.318,715\n",
      "\n",
      "Mi 3i 10000 mAh Power Bank (Fast Charging| 18W),Rs.899,4.378,166\n",
      "\n",
      "Mi 10i (Pacific Sunrise| 128 GB),Rs.26999,4.3366\n",
      "\n",
      "Redmi Note 9 Pro (Interstellar Black| 64 GB),Rs.13995,4.419,393\n",
      "\n",
      "Redmi Note 9 Pro (Aurora Blue| 64 GB),Rs.14983,4.419,393\n",
      "\n",
      "Redmi 8A (Ocean Blue| 32 GB),Rs.7999,4.31,35,315\n",
      "\n",
      "Redmi Note 9 Pro (Interstellar Black| 128 GB),Rs.14385,4.419,393\n",
      "\n",
      "Redmi Note 9 Pro (Interstellar Black| 128 GB),Rs.17800,4.41,370\n",
      "\n",
      "Redmi Note 9 Pro (Champagne Gold| 128 GB),Rs.14995,4.419,393\n",
      "\n"
     ]
    }
   ],
   "source": [
    "for container in containers:\n",
    "    product_name = container.div.img[\"alt\"]\n",
    "    #print(product_name)\n",
    "    \n",
    "    price_container = container.findAll(\"div\",{\"class\": \"col col-5-12 nlI3QM\"})\n",
    "    price = price_container[0].text.strip()    #strip to eliminate all the unnecessary components(remove extra spacing)\n",
    "    \n",
    "    rating_container =container.findAll(\"div\",{\"class\": \"gUuXy-\"})\n",
    "    rating = rating_container[0].text\n",
    "    \n",
    "    \n",
    "    #print(product_name)\n",
    "    #print( price)\n",
    "    #print( rating)\n",
    "    \n",
    "    trim_price = ''.join(price.split(','))\n",
    "    rm_rupee = trim_price.split(\"₹\")\n",
    "    add_rs_price = \"Rs.\" + rm_rupee[1]\n",
    "    split_price =add_rs_price.split(' ')\n",
    "    final_price = split_price[0]\n",
    "    \n",
    "    split_rating = rating.split(\" \")\n",
    "    final_rating = split_rating[0]\n",
    "    \n",
    "    print(product_name.replace(\",\",\"|\") + \",\" + final_price + \",\" + final_rating + \"\\n\")\n",
    "    f.write(product_name.replace(\",\",\"|\") + \",\" + final_price + \",\" + final_rating + \"\\n\")\n",
    "    \n",
    "f.close()      "
   ]
  },
  {
   "cell_type": "code",
   "execution_count": null,
   "metadata": {},
   "outputs": [],
   "source": []
  }
 ],
 "metadata": {
  "kernelspec": {
   "display_name": "Python 3",
   "language": "python",
   "name": "python3"
  },
  "language_info": {
   "codemirror_mode": {
    "name": "ipython",
    "version": 3
   },
   "file_extension": ".py",
   "mimetype": "text/x-python",
   "name": "python",
   "nbconvert_exporter": "python",
   "pygments_lexer": "ipython3",
   "version": "3.8.5"
  }
 },
 "nbformat": 4,
 "nbformat_minor": 4
}
